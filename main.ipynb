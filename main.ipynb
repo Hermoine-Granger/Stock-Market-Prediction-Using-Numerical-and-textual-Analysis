{
 "cells": [
  {
   "cell_type": "markdown",
   "metadata": {},
   "source": [
    "# Data Science and Business Intern\n",
    "\n",
    "# Author: Himani Sharma"
   ]
  },
  {
   "cell_type": "markdown",
   "metadata": {},
   "source": [
    "# Importing Libraries"
   ]
  },
  {
   "cell_type": "code",
   "execution_count": 113,
   "metadata": {},
   "outputs": [],
   "source": [
    "import pandas as pd\n",
    "import numpy as np\n",
    "from nltk.sentiment.vader import SentimentIntensityAnalyzer as SIA\n",
    "from nltk.tokenize import sent_tokenize, word_tokenize\n",
    "from nltk.corpus import stopwords\n",
    "from sklearn import metrics \n",
    "\n",
    "from sklearn.linear_model import LinearRegression\n",
    "from sklearn.ensemble import RandomForestRegressor\n",
    "from sklearn.ensemble import VotingRegressor\n",
    "from sklearn.tree import DecisionTreeRegressor\n",
    "from sklearn.ensemble import GradientBoostingRegressor\n",
    "\n",
    "import matplotlib.pyplot as plt\n",
    "from datetime import datetime\n",
    "from sklearn.model_selection import train_test_split \n",
    "from sklearn.tree import DecisionTreeClassifier\n",
    "\n",
    "%matplotlib inline"
   ]
  },
  {
   "cell_type": "markdown",
   "metadata": {},
   "source": [
    "# Loading and preprocessing data"
   ]
  },
  {
   "cell_type": "code",
   "execution_count": 3,
   "metadata": {},
   "outputs": [
    {
     "name": "stdout",
     "output_type": "stream",
     "text": [
      "Dataset Length:  3297172\n",
      "Dataset Shape:  (3297172, 3)\n",
      "Dataset: \n",
      "    publish_date headline_category  \\\n",
      "0      20010101        sports.wwe   \n",
      "1      20010102           unknown   \n",
      "2      20010102           unknown   \n",
      "3      20010102           unknown   \n",
      "4      20010102           unknown   \n",
      "\n",
      "                                       headline_text  \n",
      "0  win over cena satisfying but defeating underta...  \n",
      "1  Status quo will not be disturbed at Ayodhya; s...  \n",
      "2                Fissures in Hurriyat over Pak visit  \n",
      "3              America's unwanted heading for India?  \n",
      "4                 For bigwigs; it is destination Goa  \n",
      "Dataset: \n",
      "          publish_date                 headline_category  \\\n",
      "3297167      20200630                      gadgets-news   \n",
      "3297168      20200630     entertainment.hindi.bollywood   \n",
      "3297169      20200630     entertainment.hindi.bollywood   \n",
      "3297170      20200630     entertainment.hindi.bollywood   \n",
      "3297171      20200630  entertainment.telugu.movies.news   \n",
      "\n",
      "                                             headline_text  \n",
      "3297167      why tiktok removed 1 65 crore videos in india  \n",
      "3297168  apurva asrani calls alia bhatts mother soni ra...  \n",
      "3297169  kangana ranaut gets a doll version of herself ...  \n",
      "3297170  meezaan jaffrey reminisces his childhood days ...  \n",
      "3297171  prabhas20 titled as radhe shyam prabhas and po...  \n",
      "\n",
      "If there is any missing value, print True else False:  False\n"
     ]
    }
   ],
   "source": [
    "# Data from  2001-01-01 to 2020-06-30                      \n",
    "headlines_dataset=pd.read_csv(\"india-news-headlines.csv\")\n",
    "# Printing the shape and length of dataset\n",
    "print (\"Dataset Length: \", len(headlines_dataset)) \n",
    "print (\"Dataset Shape: \", headlines_dataset.shape) \n",
    "      \n",
    "# Printing the first 5 rows of dataset  \n",
    "print (\"Dataset: \\n\",headlines_dataset.head())\n",
    "print (\"Dataset: \\n\",headlines_dataset.tail()) \n",
    "    \n",
    "#check for null values \n",
    "isnull=headlines_dataset.isnull().values.any()\n",
    "print(\"\\nIf there is any missing value, print True else False: \",isnull)"
   ]
  },
  {
   "cell_type": "markdown",
   "metadata": {},
   "source": [
    "We will check for null values in historic dataset , and replace them with mean value of the column"
   ]
  },
  {
   "cell_type": "code",
   "execution_count": 4,
   "metadata": {},
   "outputs": [
    {
     "name": "stdout",
     "output_type": "stream",
     "text": [
      "Dataset Length:  4869\n",
      "Dataset Shape:  (4869, 7)\n",
      "Dataset: \n",
      "          Date       Open       High        Low      Close  Adj Close  \\\n",
      "0  2001-01-01  53.105499  53.675701  52.949402  53.378899  24.208828   \n",
      "1  2001-01-02  53.160198  56.073200  53.144600  55.339100  25.097834   \n",
      "2  2001-01-03  55.448399  56.494900  55.136101  56.237202  25.505148   \n",
      "3  2001-01-04  56.088799  57.307098  55.635899  55.885799  25.345785   \n",
      "4  2001-01-05  55.682701  57.291500  55.682701  56.901001  25.806200   \n",
      "\n",
      "       Volume  \n",
      "0  19259768.0  \n",
      "1  42408935.0  \n",
      "2  56622894.0  \n",
      "3  38303310.0  \n",
      "4  47762434.0  \n",
      "Dataset: \n",
      "             Date         Open         High          Low        Close  \\\n",
      "4864  2020-06-23  1750.000000  1763.750000  1716.099976  1720.900024   \n",
      "4865  2020-06-24  1735.900024  1772.699951  1711.699951  1727.849976   \n",
      "4866  2020-06-25  1727.000000  1749.000000  1713.050049  1717.900024   \n",
      "4867  2020-06-26  1728.800049  1752.000000  1717.000000  1741.650024   \n",
      "4868  2020-06-29  1728.050049  1739.750000  1715.550049  1723.150024   \n",
      "\n",
      "        Adj Close      Volume  \n",
      "4864  1714.462524  17519493.0  \n",
      "4865  1721.386475  23807033.0  \n",
      "4866  1711.473755  18312025.0  \n",
      "4867  1735.134888  14270458.0  \n",
      "4868  1716.704102  11824524.0  \n",
      "\n",
      "If there is any missing value, print True else False:  True\n",
      "\n",
      "Number of missing values in dataset is:  348\n",
      "\n",
      "If there are any missing values after replacement by mean, print True else False  :  False\n"
     ]
    },
    {
     "data": {
      "text/plain": [
       "False"
      ]
     },
     "execution_count": 4,
     "metadata": {},
     "output_type": "execute_result"
    }
   ],
   "source": [
    "# Data from  2001-01-01 to 2020-06-30                    \n",
    "\n",
    "historic_dataset=pd.read_csv(\"RELIANCE.NS.csv\")\n",
    "# Printing the shape and length of dataset\n",
    "print (\"Dataset Length: \", len(historic_dataset)) \n",
    "print (\"Dataset Shape: \", historic_dataset.shape) \n",
    "      \n",
    "# Printing the first 5 rows of dataset  \n",
    "print (\"Dataset: \\n\",historic_dataset.head())\n",
    "print (\"Dataset: \\n\",historic_dataset.tail()) \n",
    "    \n",
    "#check for null values \n",
    "isnull=historic_dataset.isnull().values.any()\n",
    "print(\"\\nIf there is any missing value, print True else False: \",isnull)\n",
    "\n",
    "count_nan_in_df = historic_dataset.isnull().sum().sum()\n",
    "print(\"\\nNumber of missing values in dataset is: \",count_nan_in_df)\n",
    "historic_dataset['Open'].fillna((historic_dataset['Open'].mean()), inplace=True)\n",
    "historic_dataset['High'].fillna((historic_dataset['High'].mean()), inplace=True)\n",
    "historic_dataset['Low'].fillna((historic_dataset['Low'].mean()), inplace=True)\n",
    "historic_dataset['Close'].fillna((historic_dataset['Adj Close'].mean()), inplace=True)\n",
    "historic_dataset['Adj Close'].fillna((historic_dataset['Open'].mean()), inplace=True)\n",
    "historic_dataset['Volume'].fillna((historic_dataset['Volume'].mean()), inplace=True)\n",
    "\n",
    "isnull=historic_dataset.isnull().values.any()\n",
    "print(\"\\nIf there are any missing values after replacement by mean, print True else False  : \",isnull)\n",
    "\n",
    "historic_dataset.Date.isnull().values.any()"
   ]
  },
  {
   "cell_type": "markdown",
   "metadata": {},
   "source": [
    "Important thing to note is that the market is closed on weekends and public holidays.\n",
    "The profit or loss calculation is usually determined by the closing price of a stock for the day, hence we will consider \n",
    "the closing price as the target variable. Let’s plot the target variable to understand how it’s shaping up in our data:"
   ]
  },
  {
   "cell_type": "code",
   "execution_count": 5,
   "metadata": {},
   "outputs": [
    {
     "data": {
      "image/png": "[encoded data removed]",
      "text/plain": [
       "<Figure size 1152x576 with 1 Axes>"
      ]
     },
     "metadata": {
      "needs_background": "light"
     },
     "output_type": "display_data"
    }
   ],
   "source": [
    "#plot\n",
    "historic_dataset.index=pd.to_datetime(historic_dataset['Date'],format='%Y-%m-%d')\n",
    "plt.figure(figsize=(16,8))\n",
    "plt.plot(historic_dataset['Close'], label='Close Price history')\n",
    "plt.show()"
   ]
  },
  {
   "cell_type": "markdown",
   "metadata": {},
   "source": [
    "# Sentiment Analysis"
   ]
  },
  {
   "cell_type": "markdown",
   "metadata": {},
   "source": [
    "# Function to tokanize, remove stopwords"
   ]
  },
  {
   "cell_type": "code",
   "execution_count": 6,
   "metadata": {},
   "outputs": [],
   "source": [
    "def process_text(headline):\n",
    "    stop_words = stopwords.words('english')\n",
    "    tokens = []\n",
    "    result=\"\"\n",
    "    toks = word_tokenize(headline)\n",
    "    for t in toks :\n",
    "        if t.lower() not in stop_words:\n",
    "            result+=\" \"+t.lower()\n",
    "    \n",
    "    \n",
    "    return result"
   ]
  },
  {
   "cell_type": "markdown",
   "metadata": {},
   "source": [
    "# Function to calculate polarity score"
   ]
  },
  {
   "cell_type": "code",
   "execution_count": 7,
   "metadata": {},
   "outputs": [],
   "source": [
    "def polarity_score_fun(headline):\n",
    "    sia = SIA()\n",
    "    pol_score = sia.polarity_scores(headline)\n",
    "    return pol_score"
   ]
  },
  {
   "cell_type": "markdown",
   "metadata": {},
   "source": [
    "Collecting headlines for each unique date and tokenizing them.\n",
    "Then calculating their polarity scores."
   ]
  },
  {
   "cell_type": "code",
   "execution_count": 8,
   "metadata": {},
   "outputs": [],
   "source": [
    "headlines_dataset\n",
    "dates=headlines_dataset.publish_date.unique() \n",
    "    \n",
    "dates_historic_data=historic_dataset.Date\n",
    "plarity_scores_datewise=[]\n",
    "\n",
    "\n",
    "for date in dates:\n",
    "    \n",
    "    if str(date)[:4]+\"-\"+str(date)[4:6]+\"-\"+str(date)[6:] in dates_historic_data:\n",
    "        s=pd.DataFrame(headlines_dataset.loc[headlines_dataset['publish_date'] == date, 'headline_text'])\n",
    "        headlines=\"\"\n",
    "        for index, row in s.iterrows():\n",
    "            headlines+=row['headline_text']+\". \" \n",
    "        tokens=process_text(headlines)\n",
    "        polarity_score=polarity_score_fun(tokens)['compound']\n",
    "        plarity_scores_datewise.append(polarity_score)\n",
    "        \n"
   ]
  },
  {
   "cell_type": "code",
   "execution_count": 45,
   "metadata": {},
   "outputs": [
    {
     "name": "stdout",
     "output_type": "stream",
     "text": [
      "<class 'numpy.int64'>\n",
      "<class 'str'>\n",
      "Indexes of Dates missing in headlines_dataset\n",
      " [9, 10, 11, 12, 13, 14, 15, 36, 46, 47, 48, 50, 65, 66, 85, 100, 102, 103, 108, 112, 114, 115, 116, 117, 118, 119, 120, 121, 132]\n"
     ]
    }
   ],
   "source": [
    "print (type(dates[0]))\n",
    "print (type(dates_historic_data[0]))\n",
    "\n",
    "index=[]\n",
    "i=0\n",
    "new_dates_historic_data=[]\n",
    "for date in dates_historic_data:\n",
    "    if int(date[:4]+date[5:7]+date[8:]) not in dates:\n",
    "        index.append(i)\n",
    "    else:\n",
    "        new_dates_historic_data.append(date)\n",
    "    i+=1\n",
    "    \n",
    "print(\"Indexes of Dates missing in headlines_dataset\\n\",index)"
   ]
  },
  {
   "cell_type": "code",
   "execution_count": 46,
   "metadata": {},
   "outputs": [
    {
     "data": {
      "text/html": [
       "<div>\n",
       "<style scoped>\n",
       "    .dataframe tbody tr th:only-of-type {\n",
       "        vertical-align: middle;\n",
       "    }\n",
       "\n",
       "    .dataframe tbody tr th {\n",
       "        vertical-align: top;\n",
       "    }\n",
       "\n",
       "    .dataframe thead th {\n",
       "        text-align: right;\n",
       "    }\n",
       "</style>\n",
       "<table border=\"1\" class=\"dataframe\">\n",
       "  <thead>\n",
       "    <tr style=\"text-align: right;\">\n",
       "      <th></th>\n",
       "      <th>Date</th>\n",
       "      <th>Polarity_score</th>\n",
       "    </tr>\n",
       "  </thead>\n",
       "  <tbody>\n",
       "    <tr>\n",
       "      <th>0</th>\n",
       "      <td>2001-01-01</td>\n",
       "      <td>0.6369</td>\n",
       "    </tr>\n",
       "    <tr>\n",
       "      <th>1</th>\n",
       "      <td>2001-01-02</td>\n",
       "      <td>-0.9701</td>\n",
       "    </tr>\n",
       "    <tr>\n",
       "      <th>2</th>\n",
       "      <td>2001-01-03</td>\n",
       "      <td>0.4696</td>\n",
       "    </tr>\n",
       "    <tr>\n",
       "      <th>3</th>\n",
       "      <td>2001-01-04</td>\n",
       "      <td>0.7358</td>\n",
       "    </tr>\n",
       "    <tr>\n",
       "      <th>4</th>\n",
       "      <td>2001-01-05</td>\n",
       "      <td>0.9841</td>\n",
       "    </tr>\n",
       "  </tbody>\n",
       "</table>\n",
       "</div>"
      ],
      "text/plain": [
       "         Date  Polarity_score\n",
       "0  2001-01-01          0.6369\n",
       "1  2001-01-02         -0.9701\n",
       "2  2001-01-03          0.4696\n",
       "3  2001-01-04          0.7358\n",
       "4  2001-01-05          0.9841"
      ]
     },
     "execution_count": 46,
     "metadata": {},
     "output_type": "execute_result"
    }
   ],
   "source": [
    "new_dataset = pd.DataFrame()\n",
    "new_dataset['Date']=new_dates_historic_data\n",
    "new_dataset['Polarity_score']=plarity_scores_datewise\n",
    "new_dataset.head()"
   ]
  },
  {
   "cell_type": "code",
   "execution_count": 47,
   "metadata": {},
   "outputs": [],
   "source": [
    "historic_dataset.index.name = None\n",
    "historic_dataset = historic_dataset.rename_axis(None)"
   ]
  },
  {
   "cell_type": "code",
   "execution_count": 71,
   "metadata": {},
   "outputs": [
    {
     "data": {
      "text/html": [
       "<div>\n",
       "<style scoped>\n",
       "    .dataframe tbody tr th:only-of-type {\n",
       "        vertical-align: middle;\n",
       "    }\n",
       "\n",
       "    .dataframe tbody tr th {\n",
       "        vertical-align: top;\n",
       "    }\n",
       "\n",
       "    .dataframe thead th {\n",
       "        text-align: right;\n",
       "    }\n",
       "</style>\n",
       "<table border=\"1\" class=\"dataframe\">\n",
       "  <thead>\n",
       "    <tr style=\"text-align: right;\">\n",
       "      <th></th>\n",
       "      <th>Date</th>\n",
       "      <th>Polarity_score</th>\n",
       "      <th>Open</th>\n",
       "      <th>High</th>\n",
       "      <th>Low</th>\n",
       "      <th>Close</th>\n",
       "      <th>Adj Close</th>\n",
       "      <th>Volume</th>\n",
       "    </tr>\n",
       "  </thead>\n",
       "  <tbody>\n",
       "    <tr>\n",
       "      <th>0</th>\n",
       "      <td>2001-01-01</td>\n",
       "      <td>0.6369</td>\n",
       "      <td>53.105499</td>\n",
       "      <td>53.675701</td>\n",
       "      <td>52.949402</td>\n",
       "      <td>53.378899</td>\n",
       "      <td>24.208828</td>\n",
       "      <td>19259768.0</td>\n",
       "    </tr>\n",
       "    <tr>\n",
       "      <th>1</th>\n",
       "      <td>2001-01-02</td>\n",
       "      <td>-0.9701</td>\n",
       "      <td>53.160198</td>\n",
       "      <td>56.073200</td>\n",
       "      <td>53.144600</td>\n",
       "      <td>55.339100</td>\n",
       "      <td>25.097834</td>\n",
       "      <td>42408935.0</td>\n",
       "    </tr>\n",
       "    <tr>\n",
       "      <th>2</th>\n",
       "      <td>2001-01-03</td>\n",
       "      <td>0.4696</td>\n",
       "      <td>55.448399</td>\n",
       "      <td>56.494900</td>\n",
       "      <td>55.136101</td>\n",
       "      <td>56.237202</td>\n",
       "      <td>25.505148</td>\n",
       "      <td>56622894.0</td>\n",
       "    </tr>\n",
       "    <tr>\n",
       "      <th>3</th>\n",
       "      <td>2001-01-04</td>\n",
       "      <td>0.7358</td>\n",
       "      <td>56.088799</td>\n",
       "      <td>57.307098</td>\n",
       "      <td>55.635899</td>\n",
       "      <td>55.885799</td>\n",
       "      <td>25.345785</td>\n",
       "      <td>38303310.0</td>\n",
       "    </tr>\n",
       "    <tr>\n",
       "      <th>4</th>\n",
       "      <td>2001-01-05</td>\n",
       "      <td>0.9841</td>\n",
       "      <td>55.682701</td>\n",
       "      <td>57.291500</td>\n",
       "      <td>55.682701</td>\n",
       "      <td>56.901001</td>\n",
       "      <td>25.806200</td>\n",
       "      <td>47762434.0</td>\n",
       "    </tr>\n",
       "    <tr>\n",
       "      <th>...</th>\n",
       "      <td>...</td>\n",
       "      <td>...</td>\n",
       "      <td>...</td>\n",
       "      <td>...</td>\n",
       "      <td>...</td>\n",
       "      <td>...</td>\n",
       "      <td>...</td>\n",
       "      <td>...</td>\n",
       "    </tr>\n",
       "    <tr>\n",
       "      <th>4835</th>\n",
       "      <td>2020-06-23</td>\n",
       "      <td>-0.9998</td>\n",
       "      <td>1750.000000</td>\n",
       "      <td>1763.750000</td>\n",
       "      <td>1716.099976</td>\n",
       "      <td>1720.900024</td>\n",
       "      <td>1714.462524</td>\n",
       "      <td>17519493.0</td>\n",
       "    </tr>\n",
       "    <tr>\n",
       "      <th>4836</th>\n",
       "      <td>2020-06-24</td>\n",
       "      <td>-0.9997</td>\n",
       "      <td>1735.900024</td>\n",
       "      <td>1772.699951</td>\n",
       "      <td>1711.699951</td>\n",
       "      <td>1727.849976</td>\n",
       "      <td>1721.386475</td>\n",
       "      <td>23807033.0</td>\n",
       "    </tr>\n",
       "    <tr>\n",
       "      <th>4837</th>\n",
       "      <td>2020-06-25</td>\n",
       "      <td>-0.9999</td>\n",
       "      <td>1727.000000</td>\n",
       "      <td>1749.000000</td>\n",
       "      <td>1713.050049</td>\n",
       "      <td>1717.900024</td>\n",
       "      <td>1711.473755</td>\n",
       "      <td>18312025.0</td>\n",
       "    </tr>\n",
       "    <tr>\n",
       "      <th>4838</th>\n",
       "      <td>2020-06-26</td>\n",
       "      <td>-0.9998</td>\n",
       "      <td>1728.800049</td>\n",
       "      <td>1752.000000</td>\n",
       "      <td>1717.000000</td>\n",
       "      <td>1741.650024</td>\n",
       "      <td>1735.134888</td>\n",
       "      <td>14270458.0</td>\n",
       "    </tr>\n",
       "    <tr>\n",
       "      <th>4839</th>\n",
       "      <td>2020-06-29</td>\n",
       "      <td>-0.9998</td>\n",
       "      <td>1728.050049</td>\n",
       "      <td>1739.750000</td>\n",
       "      <td>1715.550049</td>\n",
       "      <td>1723.150024</td>\n",
       "      <td>1716.704102</td>\n",
       "      <td>11824524.0</td>\n",
       "    </tr>\n",
       "  </tbody>\n",
       "</table>\n",
       "<p>4840 rows × 8 columns</p>\n",
       "</div>"
      ],
      "text/plain": [
       "           Date  Polarity_score         Open         High          Low  \\\n",
       "0    2001-01-01          0.6369    53.105499    53.675701    52.949402   \n",
       "1    2001-01-02         -0.9701    53.160198    56.073200    53.144600   \n",
       "2    2001-01-03          0.4696    55.448399    56.494900    55.136101   \n",
       "3    2001-01-04          0.7358    56.088799    57.307098    55.635899   \n",
       "4    2001-01-05          0.9841    55.682701    57.291500    55.682701   \n",
       "...         ...             ...          ...          ...          ...   \n",
       "4835 2020-06-23         -0.9998  1750.000000  1763.750000  1716.099976   \n",
       "4836 2020-06-24         -0.9997  1735.900024  1772.699951  1711.699951   \n",
       "4837 2020-06-25         -0.9999  1727.000000  1749.000000  1713.050049   \n",
       "4838 2020-06-26         -0.9998  1728.800049  1752.000000  1717.000000   \n",
       "4839 2020-06-29         -0.9998  1728.050049  1739.750000  1715.550049   \n",
       "\n",
       "            Close    Adj Close      Volume  \n",
       "0       53.378899    24.208828  19259768.0  \n",
       "1       55.339100    25.097834  42408935.0  \n",
       "2       56.237202    25.505148  56622894.0  \n",
       "3       55.885799    25.345785  38303310.0  \n",
       "4       56.901001    25.806200  47762434.0  \n",
       "...           ...          ...         ...  \n",
       "4835  1720.900024  1714.462524  17519493.0  \n",
       "4836  1727.849976  1721.386475  23807033.0  \n",
       "4837  1717.900024  1711.473755  18312025.0  \n",
       "4838  1741.650024  1735.134888  14270458.0  \n",
       "4839  1723.150024  1716.704102  11824524.0  \n",
       "\n",
       "[4840 rows x 8 columns]"
      ]
     },
     "execution_count": 71,
     "metadata": {},
     "output_type": "execute_result"
    }
   ],
   "source": [
    "df = pd.merge(new_dataset,historic_dataset,on='Date', how='left')\n",
    "df['Date'] = pd.to_datetime(df['Date'])\n",
    "df"
   ]
  },
  {
   "cell_type": "code",
   "execution_count": 72,
   "metadata": {},
   "outputs": [
    {
     "data": {
      "text/html": [
       "<div>\n",
       "<style scoped>\n",
       "    .dataframe tbody tr th:only-of-type {\n",
       "        vertical-align: middle;\n",
       "    }\n",
       "\n",
       "    .dataframe tbody tr th {\n",
       "        vertical-align: top;\n",
       "    }\n",
       "\n",
       "    .dataframe thead th {\n",
       "        text-align: right;\n",
       "    }\n",
       "</style>\n",
       "<table border=\"1\" class=\"dataframe\">\n",
       "  <thead>\n",
       "    <tr style=\"text-align: right;\">\n",
       "      <th></th>\n",
       "      <th>Date</th>\n",
       "      <th>Polarity_score</th>\n",
       "      <th>Open</th>\n",
       "      <th>High</th>\n",
       "      <th>Low</th>\n",
       "      <th>Close</th>\n",
       "      <th>Adj Close</th>\n",
       "      <th>Volume</th>\n",
       "    </tr>\n",
       "  </thead>\n",
       "  <tbody>\n",
       "    <tr>\n",
       "      <th>0</th>\n",
       "      <td>2001-01-01</td>\n",
       "      <td>0.6369</td>\n",
       "      <td>53.105499</td>\n",
       "      <td>0.000000</td>\n",
       "      <td>0.000000</td>\n",
       "      <td>53.378899</td>\n",
       "      <td>0.000000</td>\n",
       "      <td>0.0</td>\n",
       "    </tr>\n",
       "    <tr>\n",
       "      <th>1</th>\n",
       "      <td>2001-01-02</td>\n",
       "      <td>-0.9701</td>\n",
       "      <td>53.160198</td>\n",
       "      <td>53.675701</td>\n",
       "      <td>52.949402</td>\n",
       "      <td>55.339100</td>\n",
       "      <td>24.208828</td>\n",
       "      <td>19259768.0</td>\n",
       "    </tr>\n",
       "    <tr>\n",
       "      <th>2</th>\n",
       "      <td>2001-01-03</td>\n",
       "      <td>0.4696</td>\n",
       "      <td>55.448399</td>\n",
       "      <td>56.073200</td>\n",
       "      <td>53.144600</td>\n",
       "      <td>56.237202</td>\n",
       "      <td>25.097834</td>\n",
       "      <td>42408935.0</td>\n",
       "    </tr>\n",
       "    <tr>\n",
       "      <th>3</th>\n",
       "      <td>2001-01-04</td>\n",
       "      <td>0.7358</td>\n",
       "      <td>56.088799</td>\n",
       "      <td>56.494900</td>\n",
       "      <td>55.136101</td>\n",
       "      <td>55.885799</td>\n",
       "      <td>25.505148</td>\n",
       "      <td>56622894.0</td>\n",
       "    </tr>\n",
       "    <tr>\n",
       "      <th>4</th>\n",
       "      <td>2001-01-05</td>\n",
       "      <td>0.9841</td>\n",
       "      <td>55.682701</td>\n",
       "      <td>57.307098</td>\n",
       "      <td>55.635899</td>\n",
       "      <td>56.901001</td>\n",
       "      <td>25.345785</td>\n",
       "      <td>38303310.0</td>\n",
       "    </tr>\n",
       "    <tr>\n",
       "      <th>5</th>\n",
       "      <td>2001-01-08</td>\n",
       "      <td>-0.9709</td>\n",
       "      <td>56.619900</td>\n",
       "      <td>57.291500</td>\n",
       "      <td>55.682701</td>\n",
       "      <td>56.260601</td>\n",
       "      <td>25.806200</td>\n",
       "      <td>47762434.0</td>\n",
       "    </tr>\n",
       "    <tr>\n",
       "      <th>6</th>\n",
       "      <td>2001-01-09</td>\n",
       "      <td>-0.9941</td>\n",
       "      <td>56.135700</td>\n",
       "      <td>57.393002</td>\n",
       "      <td>55.799900</td>\n",
       "      <td>55.909199</td>\n",
       "      <td>25.515766</td>\n",
       "      <td>43809518.0</td>\n",
       "    </tr>\n",
       "    <tr>\n",
       "      <th>7</th>\n",
       "      <td>2001-01-10</td>\n",
       "      <td>-0.7096</td>\n",
       "      <td>56.002899</td>\n",
       "      <td>56.510601</td>\n",
       "      <td>55.776501</td>\n",
       "      <td>54.932999</td>\n",
       "      <td>25.356398</td>\n",
       "      <td>28898145.0</td>\n",
       "    </tr>\n",
       "    <tr>\n",
       "      <th>8</th>\n",
       "      <td>2001-01-11</td>\n",
       "      <td>0.0000</td>\n",
       "      <td>55.057999</td>\n",
       "      <td>56.455898</td>\n",
       "      <td>54.534698</td>\n",
       "      <td>55.573399</td>\n",
       "      <td>24.913660</td>\n",
       "      <td>30288075.0</td>\n",
       "    </tr>\n",
       "    <tr>\n",
       "      <th>9</th>\n",
       "      <td>2001-01-23</td>\n",
       "      <td>0.8994</td>\n",
       "      <td>58.533199</td>\n",
       "      <td>55.807701</td>\n",
       "      <td>54.823700</td>\n",
       "      <td>59.611000</td>\n",
       "      <td>25.204098</td>\n",
       "      <td>26062495.0</td>\n",
       "    </tr>\n",
       "  </tbody>\n",
       "</table>\n",
       "</div>"
      ],
      "text/plain": [
       "        Date  Polarity_score       Open       High        Low      Close  \\\n",
       "0 2001-01-01          0.6369  53.105499   0.000000   0.000000  53.378899   \n",
       "1 2001-01-02         -0.9701  53.160198  53.675701  52.949402  55.339100   \n",
       "2 2001-01-03          0.4696  55.448399  56.073200  53.144600  56.237202   \n",
       "3 2001-01-04          0.7358  56.088799  56.494900  55.136101  55.885799   \n",
       "4 2001-01-05          0.9841  55.682701  57.307098  55.635899  56.901001   \n",
       "5 2001-01-08         -0.9709  56.619900  57.291500  55.682701  56.260601   \n",
       "6 2001-01-09         -0.9941  56.135700  57.393002  55.799900  55.909199   \n",
       "7 2001-01-10         -0.7096  56.002899  56.510601  55.776501  54.932999   \n",
       "8 2001-01-11          0.0000  55.057999  56.455898  54.534698  55.573399   \n",
       "9 2001-01-23          0.8994  58.533199  55.807701  54.823700  59.611000   \n",
       "\n",
       "   Adj Close      Volume  \n",
       "0   0.000000         0.0  \n",
       "1  24.208828  19259768.0  \n",
       "2  25.097834  42408935.0  \n",
       "3  25.505148  56622894.0  \n",
       "4  25.345785  38303310.0  \n",
       "5  25.806200  47762434.0  \n",
       "6  25.515766  43809518.0  \n",
       "7  25.356398  28898145.0  \n",
       "8  24.913660  30288075.0  \n",
       "9  25.204098  26062495.0  "
      ]
     },
     "execution_count": 72,
     "metadata": {},
     "output_type": "execute_result"
    }
   ],
   "source": [
    "# \n",
    "highs = df['High']\n",
    "list_of_highs = highs.to_list()\n",
    "list_of_highs.pop()\n",
    "list_of_highs.insert(0,0)\n",
    "df['High']=list_of_highs\n",
    "\n",
    "lows = df['Low']\n",
    "list_of_lows = lows.to_list()\n",
    "list_of_lows.pop()\n",
    "list_of_lows.insert(0,0)\n",
    "df['Low']=list_of_lows\n",
    "\n",
    "volumes = df['Volume']\n",
    "list_of_volumes = volumes.to_list()\n",
    "list_of_volumes.pop()\n",
    "list_of_volumes.insert(0,0)\n",
    "df['Volume']=list_of_volumes\n",
    "\n",
    "adj_close = df['Adj Close']\n",
    "list_of_adj_close = adj_close.to_list()\n",
    "list_of_adj_close.pop()\n",
    "list_of_adj_close.insert(0,0)\n",
    "df['Adj Close']=list_of_adj_close\n",
    "\n",
    "\n",
    "df.head(10)\n"
   ]
  },
  {
   "cell_type": "markdown",
   "metadata": {},
   "source": [
    "# Creating the models\n",
    "\n",
    "We are creating 4 models."
   ]
  },
  {
   "cell_type": "code",
   "execution_count": 182,
   "metadata": {},
   "outputs": [],
   "source": [
    "reg1 = RandomForestRegressor(n_estimators=200, random_state=0)\n",
    "reg2 = GradientBoostingRegressor(random_state=0)\n",
    "reg3 = DecisionTreeRegressor(random_state=0)\n",
    "ereg = VotingRegressor([ ('rf', reg1),('gb', reg2),('dt',reg3)])"
   ]
  },
  {
   "cell_type": "markdown",
   "metadata": {},
   "source": [
    "# Function to train models "
   ]
  },
  {
   "cell_type": "code",
   "execution_count": 195,
   "metadata": {},
   "outputs": [],
   "source": [
    "def train(X_train, y_train):\n",
    "    reg1.fit(X_train, y_train)\n",
    "    reg2.fit(X_train, y_train)\n",
    "    reg3.fit(X_train, y_train)\n",
    "    ereg.fit(X_train, y_train)\n",
    "    print(\"Models trained successfully\")"
   ]
  },
  {
   "cell_type": "markdown",
   "metadata": {},
   "source": [
    "# Function for each of the regressors to make the 20 first predictions"
   ]
  },
  {
   "cell_type": "code",
   "execution_count": 196,
   "metadata": {},
   "outputs": [],
   "source": [
    "def pred(X_test):\n",
    "    test_X = X_test[:20]\n",
    "    test_y=y_test[:20]\n",
    "\n",
    "    pred1 = reg1.predict(test_X)\n",
    "    pred2 = reg2.predict(test_X)\n",
    "    pred3 = reg3.predict(test_X)\n",
    "    pred4 = ereg.predict(test_X)\n",
    "    return([pred1,pred2,pred3,pred4])"
   ]
  },
  {
   "cell_type": "markdown",
   "metadata": {},
   "source": [
    "# Function for Plotting the prediction results"
   ]
  },
  {
   "cell_type": "code",
   "execution_count": 197,
   "metadata": {},
   "outputs": [],
   "source": [
    "def plot(pred1,pred2,pred3,pred4):\n",
    "    \n",
    "    plt.figure()\n",
    "    plt.plot(pred1, 'ys', label='RandomForestRegressor')\n",
    "    plt.plot(pred2, 'b^', label='GradientBoostingRegresso')\n",
    "    plt.plot(pred3, 'gd', label='DecisionTreeRegressor')\n",
    "    plt.plot(pred4, 'r*', ms=10, label='VotingRegressor')\n",
    "\n",
    "    plt.tick_params(axis='x', which='both', bottom=False, top=False,\n",
    "                labelbottom=False)\n",
    "    plt.ylabel('predicted')\n",
    "    plt.xlabel('training samples')\n",
    "    plt.legend(loc=\"best\")\n",
    "    plt.title('Regressor predictions and their average')\n",
    "\n",
    "    plt.show()"
   ]
  },
  {
   "cell_type": "markdown",
   "metadata": {},
   "source": [
    "# Function for calculating R2 Score and Mean Absolute error"
   ]
  },
  {
   "cell_type": "code",
   "execution_count": 198,
   "metadata": {},
   "outputs": [],
   "source": [
    "def R2_score_MeanAbs_Error(Model,reg,test_y,pred):\n",
    "    print(\"r2 score for Random Forest Regressor: \",reg.score(X_train, y_train))\n",
    "    print('Mean Absolute Error:', metrics.mean_absolute_error(test_y, pred)) "
   ]
  },
  {
   "cell_type": "markdown",
   "metadata": {},
   "source": [
    "# Training the data with Polarity Score"
   ]
  },
  {
   "cell_type": "code",
   "execution_count": 209,
   "metadata": {},
   "outputs": [
    {
     "name": "stdout",
     "output_type": "stream",
     "text": [
      "Models trained successfully\n"
     ]
    }
   ],
   "source": [
    "subject_var=df[['Polarity_score']]\n",
    "X = subject_var.values[:,:]\n",
    "\n",
    "#Target/Label variable\n",
    "target_vars=df['Close']\n",
    "Y = target_vars.values[:]\n",
    "\n",
    "\n",
    "X_train, X_test, y_train, y_test = train_test_split( X, Y, test_size = 0.3, random_state = 100) \n",
    "train(X_train, y_train)\n",
    "\n"
   ]
  },
  {
   "cell_type": "code",
   "execution_count": 214,
   "metadata": {},
   "outputs": [],
   "source": [
    "pred_list=pred(X_test)\n",
    "pred1=pred_list[0]\n",
    "pred2=pred_list[1]\n",
    "pred3=pred_list[2]\n",
    "pred4=pred_list[3]"
   ]
  },
  {
   "cell_type": "code",
   "execution_count": 215,
   "metadata": {},
   "outputs": [
    {
     "data": {
      "image/png": "[encoded data removed]",
      "text/plain": [
       "<Figure size 432x288 with 1 Axes>"
      ]
     },
     "metadata": {
      "needs_background": "light"
     },
     "output_type": "display_data"
    }
   ],
   "source": [
    "plot(pred1,pred2,pred3,pred4)\n"
   ]
  },
  {
   "cell_type": "code",
   "execution_count": 216,
   "metadata": {},
   "outputs": [
    {
     "name": "stdout",
     "output_type": "stream",
     "text": [
      "r2 score for Random Forest Regressor:  0.35002468665603914\n",
      "Mean Absolute Error: 242.73157958747817\n",
      "r2 score for Random Forest Regressor:  0.3240073351504118\n",
      "Mean Absolute Error: 244.32784098455386\n",
      "r2 score for Random Forest Regressor:  0.3587368885936174\n",
      "Mean Absolute Error: 244.1331224413866\n",
      "r2 score for Random Forest Regressor:  0.35090317327930776\n",
      "Mean Absolute Error: 241.6216541272416\n"
     ]
    }
   ],
   "source": [
    "R2_score_MeanAbs_Error(\"RandomForestRegressor\",reg1,test_y,pred1)\n",
    "R2_score_MeanAbs_Error(\"GradientBoostingRegressor\",reg2,test_y,pred2)\n",
    "R2_score_MeanAbs_Error(\"DecisionTreeRegressor\",reg3,test_y,pred3)\n",
    "R2_score_MeanAbs_Error(\"VotingRegressor\",ereg,test_y,pred4)"
   ]
  },
  {
   "cell_type": "markdown",
   "metadata": {},
   "source": [
    "# Training the data with Polarity Score and opening Price of the day"
   ]
  },
  {
   "cell_type": "code",
   "execution_count": 217,
   "metadata": {},
   "outputs": [
    {
     "name": "stdout",
     "output_type": "stream",
     "text": [
      "Models trained successfully\n"
     ]
    }
   ],
   "source": [
    "subject_var=df[['Polarity_score','Open']]\n",
    "X = subject_var.values[:,:]\n",
    "\n",
    "#Target/Label variable\n",
    "target_vars=df['Close']\n",
    "Y = target_vars.values[:]\n",
    "\n",
    "\n",
    "X_train, X_test, y_train, y_test = train_test_split( X, Y, test_size = 0.3, random_state = 100) \n",
    "train(X_train, y_train)\n"
   ]
  },
  {
   "cell_type": "code",
   "execution_count": 218,
   "metadata": {},
   "outputs": [],
   "source": [
    "pred_list=pred(X_test)\n",
    "pred1=pred_list[0]\n",
    "pred2=pred_list[1]\n",
    "pred3=pred_list[2]\n",
    "pred4=pred_list[3]"
   ]
  },
  {
   "cell_type": "code",
   "execution_count": 219,
   "metadata": {},
   "outputs": [
    {
     "data": {
      "image/png": "[encoded data removed]",
      "text/plain": [
       "<Figure size 432x288 with 1 Axes>"
      ]
     },
     "metadata": {
      "needs_background": "light"
     },
     "output_type": "display_data"
    }
   ],
   "source": [
    "plot(pred1,pred2,pred3,pred4)\n"
   ]
  },
  {
   "cell_type": "code",
   "execution_count": 220,
   "metadata": {},
   "outputs": [
    {
     "name": "stdout",
     "output_type": "stream",
     "text": [
      "r2 score for Random Forest Regressor:  0.9997974817606783\n",
      "Mean Absolute Error: 11.424221099921315\n",
      "r2 score for Random Forest Regressor:  0.9992901434749736\n",
      "Mean Absolute Error: 9.428562568687415\n",
      "r2 score for Random Forest Regressor:  0.9999753705922496\n",
      "Mean Absolute Error: 11.64556000000001\n",
      "r2 score for Random Forest Regressor:  0.9998118045159659\n",
      "Mean Absolute Error: 10.681538124295272\n"
     ]
    }
   ],
   "source": [
    "R2_score_MeanAbs_Error(\"RandomForestRegressor\",reg1,test_y,pred1)\n",
    "R2_score_MeanAbs_Error(\"GradientBoostingRegressor\",reg2,test_y,pred2)\n",
    "R2_score_MeanAbs_Error(\"DecisionTreeRegressor\",reg3,test_y,pred3)\n",
    "R2_score_MeanAbs_Error(\"VotingRegressor\",ereg,test_y,pred4)"
   ]
  },
  {
   "cell_type": "markdown",
   "metadata": {},
   "source": [
    "# Observations\n",
    "\n",
    "Polarity as the only feature comes out as a non dominant feautre. But when combined with Opening stock price of the day, it gives excellent results.\n"
   ]
  },
  {
   "cell_type": "markdown",
   "metadata": {},
   "source": [
    "# Scope of improvement:\n",
    "\n",
    "1.Using better improved methods of polarity_score decision for sentiment analysis of news.\n",
    "2.Hyperparameters tuning of the models will improve the model."
   ]
  }
 ],
 "metadata": {
  "kernelspec": {
   "display_name": "Python 3",
   "language": "python",
   "name": "python3"
  },
  "language_info": {
   "codemirror_mode": {
    "name": "ipython",
    "version": 3
   },
   "file_extension": ".py",
   "mimetype": "text/x-python",
   "name": "python",
   "nbconvert_exporter": "python",
   "pygments_lexer": "ipython3",
   "version": "3.9.0"
  }
 },
 "nbformat": 4,
 "nbformat_minor": 4
}
